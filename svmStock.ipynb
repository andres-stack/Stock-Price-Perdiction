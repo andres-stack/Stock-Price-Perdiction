{
  "nbformat": 4,
  "nbformat_minor": 0,
  "metadata": {
    "colab": {
      "name": "svmStock.ipynb",
      "provenance": [],
      "toc_visible": true,
      "authorship_tag": "ABX9TyOUF5ri5c0mCq3GU43Wc0ap",
      "include_colab_link": true
    },
    "kernelspec": {
      "name": "python3",
      "display_name": "Python 3"
    },
    "language_info": {
      "name": "python"
    }
  },
  "cells": [
    {
      "cell_type": "markdown",
      "metadata": {
        "id": "view-in-github",
        "colab_type": "text"
      },
      "source": [
        "<a href=\"https://colab.research.google.com/github/andres-stack/Stock-Price-Perdiction/blob/main/svmStock.ipynb\" target=\"_parent\"><img src=\"https://colab.research.google.com/assets/colab-badge.svg\" alt=\"Open In Colab\"/></a>"
      ]
    },
    {
      "cell_type": "code",
      "metadata": {
        "id": "5JT8a6oNOkIs"
      },
      "source": [
        "import numpy as np\n",
        "import pandas as pd\n",
        "import matplotlib.pyplot as plt\n",
        "from sklearn.linear_model import LogisticRegression\n",
        "from sklearn import metrics\n",
        "from sklearn.model_selection import cross_val_score\n",
        "from pandas_datareader import data as pdr\n",
        "import yfinance as yf\n",
        "import datetime\n",
        "from finta import TA\n",
        "import pandas as pd\n",
        "import numpy as np\n",
        "import matplotlib.pyplot as plt\n",
        "%matplotlib inline\n",
        "from sklearn.model_selection import train_test_split\n",
        "from sklearn.svm import SVC"
      ],
      "execution_count": 3,
      "outputs": []
    },
    {
      "cell_type": "code",
      "metadata": {
        "id": "YJqcujsGdnfw"
      },
      "source": [
        "numDays = 14000\n",
        "dataInterval = '1d'\n",
        "symbol = 'TSLA'\n",
        "INDICATORS = INDICATORS = ['RSI', 'MACD', 'STOCH','ADL', 'ATR', 'MOM', 'MFI', 'ROC', 'OBV', 'CCI', 'EMV', 'VORTEX']\n",
        "\n",
        "\n",
        "start = (datetime.date.today() - datetime.timedelta(numDays))\n",
        "end = datetime.datetime.today()\n",
        "\n",
        "data = yf.download(symbol, start=start, end=end, interval=dataInterval)\n",
        "data.rename(columns={\"Close\": 'close', \"High\": 'high', \"Low\": 'low', 'Volume': 'volume', 'Open': 'open'}, inplace=True)\n",
        "\n",
        "print(data)"
      ],
      "execution_count": null,
      "outputs": []
    },
    {
      "cell_type": "code",
      "metadata": {
        "id": "Sz15X-gpfPwA"
      },
      "source": [
        "#Feature Engineering Technical Indicators\n",
        "for indicator in INDICATORS:\n",
        "  indicatorValues = eval('TA.' + indicator + '(data)')\n",
        "  if not isinstance(indicatorValues, pd.DataFrame):\n",
        "    indicatorValues = indicatorValues.to_frame()\n",
        "  data = data.merge(indicatorValues, left_index=True, right_index=True)\n",
        "del (data['open'])\n",
        "del (data['high'])\n",
        "del (data['low'])\n",
        "del (data['volume'])\n",
        "del (data['Adj Close'])"
      ],
      "execution_count": 16,
      "outputs": []
    },
    {
      "cell_type": "code",
      "metadata": {
        "id": "OnkrgZfShcnb"
      },
      "source": [
        "#finding the truth values\n",
        "def getprediction(data, window):\n",
        "    \n",
        "    prediction = (data.shift(-window)['close'] >= data['close'])\n",
        "    prediction = prediction.iloc[:-window]\n",
        "    data['pred'] = prediction.astype(int)\n",
        "    \n",
        "    return data\n",
        "\n",
        "data = getprediction(data, window=15)\n",
        "del (data['close'])\n",
        "data = data.dropna() \n",
        "data.tail()"
      ],
      "execution_count": null,
      "outputs": []
    },
    {
      "cell_type": "code",
      "metadata": {
        "id": "nEMWIpxo2DkT"
      },
      "source": [
        "#implementing SVM\n",
        "X = data.drop('pred', axis=1)\n",
        "y = data['pred']"
      ],
      "execution_count": 18,
      "outputs": []
    },
    {
      "cell_type": "code",
      "metadata": {
        "id": "2d0lOEGn3I3D"
      },
      "source": [
        "X_train, X_test, y_train, y_test = train_test_split(X, y, test_size = 0.20)"
      ],
      "execution_count": 19,
      "outputs": []
    },
    {
      "cell_type": "code",
      "metadata": {
        "id": "QWT5mGQVANV6"
      },
      "source": [
        "#feature Scaling\n",
        "from sklearn import preprocessing\n",
        "import numpy as np\n",
        "scaler = preprocessing.StandardScaler().fit(X_train)\n",
        "scaler = preprocessing.StandardScaler().fit(X_test)\n",
        "X_testScaled = scaler.transform(X_test)\n",
        "X_scaled = scaler.transform(X_train)"
      ],
      "execution_count": 20,
      "outputs": []
    },
    {
      "cell_type": "code",
      "metadata": {
        "id": "DL4j88KI7akZ",
        "colab": {
          "base_uri": "https://localhost:8080/"
        },
        "outputId": "adc03803-9b6f-43c5-f0c5-0bc2f48161f1"
      },
      "source": [
        "svclassifier = SVC(kernel='rbf')\n",
        "svclassifier.fit(X_scaled, y_train)"
      ],
      "execution_count": 10,
      "outputs": [
        {
          "output_type": "execute_result",
          "data": {
            "text/plain": [
              "SVC()"
            ]
          },
          "metadata": {},
          "execution_count": 10
        }
      ]
    },
    {
      "cell_type": "code",
      "metadata": {
        "id": "5tH8fOIXUPsy"
      },
      "source": [
        "y_pred = svclassifier.predict(X_testScaled)"
      ],
      "execution_count": 21,
      "outputs": []
    },
    {
      "cell_type": "code",
      "metadata": {
        "id": "VfzO_WFzUSYZ"
      },
      "source": [
        "from sklearn import metrics\n",
        "print(\"Gaussian Kernel Accuracy:\",metrics.accuracy_score(y_test, y_pred))"
      ],
      "execution_count": null,
      "outputs": []
    },
    {
      "cell_type": "code",
      "metadata": {
        "id": "TIW5F2zIhcF9"
      },
      "source": [
        "#getting accuracy for Different plynomial terms\n",
        "i = 2\n",
        "while i < 20:\n",
        "  polyclassifier = SVC(kernel = 'poly', degree = i)\n",
        "  polyclassifier.fit(X_scaled, y_train)\n",
        "  prediction = polyclassifier.predict(X_testScaled)\n",
        "  print('polynomial degree '+str(i) +':',metrics.accuracy_score(y_test, prediction))\n",
        "  i = i+1"
      ],
      "execution_count": null,
      "outputs": []
    }
  ]
}