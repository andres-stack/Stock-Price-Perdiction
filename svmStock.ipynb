{
  "nbformat": 4,
  "nbformat_minor": 0,
  "metadata": {
    "colab": {
      "name": "svmStock.ipynb",
      "provenance": [],
      "toc_visible": true,
      "authorship_tag": "ABX9TyOUF5ri5c0mCq3GU43Wc0ap",
      "include_colab_link": true
    },
    "kernelspec": {
      "name": "python3",
      "display_name": "Python 3"
    },
    "language_info": {
      "name": "python"
    }
  },
  "cells": [
    {
      "cell_type": "markdown",
      "metadata": {
        "id": "view-in-github",
        "colab_type": "text"
      },
      "source": [
        "<a href=\"https://colab.research.google.com/github/andres-stack/Stock-Price-Perdiction/blob/main/svmStock.ipynb\" target=\"_parent\"><img src=\"https://colab.research.google.com/assets/colab-badge.svg\" alt=\"Open In Colab\"/></a>"
      ]
    },
    {
      "cell_type": "code",
      "metadata": {
        "id": "5JT8a6oNOkIs"
      },
      "source": [
        "import numpy as np\n",
        "import pandas as pd\n",
        "import matplotlib.pyplot as plt\n",
        "from sklearn.linear_model import LogisticRegression\n",
        "from sklearn import metrics\n",
        "from sklearn.model_selection import cross_val_score\n",
        "from pandas_datareader import data as pdr\n",
        "import yfinance as yf\n",
        "import datetime\n",
        "from finta import TA\n",
        "import pandas as pd\n",
        "import numpy as np\n",
        "import matplotlib.pyplot as plt\n",
        "%matplotlib inline\n",
        "from sklearn.model_selection import train_test_split\n",
        "from sklearn.svm import SVC"
      ],
      "execution_count": 3,
      "outputs": []
    },
    {
      "cell_type": "code",
      "metadata": {
        "id": "YJqcujsGdnfw"
      },
      "source": [
        "numDays = 14000\n",
        "dataInterval = '1d'\n",
        "symbol = 'TSLA'\n",
        "INDICATORS = INDICATORS = ['RSI', 'MACD', 'STOCH','ADL', 'ATR', 'MOM', 'MFI', 'ROC', 'OBV', 'CCI', 'EMV', 'VORTEX']\n",
        "\n",
        "\n",
        "start = (datetime.date.today() - datetime.timedelta(numDays))\n",
        "end = datetime.datetime.today()\n",
        "\n",
        "data = yf.download(symbol, start=start, end=end, interval=dataInterval)\n",
        "data.rename(columns={\"Close\": 'close', \"High\": 'high', \"Low\": 'low', 'Volume': 'volume', 'Open': 'open'}, inplace=True)\n",
        "\n",
        "print(data)"
      ],
      "execution_count": null,
      "outputs": []
    },
    {
      "cell_type": "code",
      "metadata": {
        "id": "Sz15X-gpfPwA"
      },
      "source": [
        "#Feature Engineering Technical Indicators\n",
        "for indicator in INDICATORS:\n",
        "  indicatorValues = eval('TA.' + indicator + '(data)')\n",
        "  if not isinstance(indicatorValues, pd.DataFrame):\n",
        "    indicatorValues = indicatorValues.to_frame()\n",
        "  data = data.merge(indicatorValues, left_index=True, right_index=True)\n",
        "del (data['open'])\n",
        "del (data['high'])\n",
        "del (data['low'])\n",
        "del (data['volume'])\n",
        "del (data['Adj Close'])"
      ],
      "execution_count": 16,
      "outputs": []
    },
    {
      "cell_type": "code",
      "metadata": {
        "id": "OnkrgZfShcnb",
        "colab": {
          "base_uri": "https://localhost:8080/",
          "height": 396
        },
        "outputId": "630f3a3a-dc4e-4038-c822-dc718d8b5205"
      },
      "source": [
        "#finding the truth values\n",
        "def getprediction(data, window):\n",
        "    \n",
        "    prediction = (data.shift(-window)['close'] >= data['close'])\n",
        "    prediction = prediction.iloc[:-window]\n",
        "    data['pred'] = prediction.astype(int)\n",
        "    \n",
        "    return data\n",
        "\n",
        "data = getprediction(data, window=15)\n",
        "del (data['close'])\n",
        "data = data.dropna() \n",
        "data.tail()"
      ],
      "execution_count": 17,
      "outputs": [
        {
          "output_type": "execute_result",
          "data": {
            "text/html": [
              "<div>\n",
              "<style scoped>\n",
              "    .dataframe tbody tr th:only-of-type {\n",
              "        vertical-align: middle;\n",
              "    }\n",
              "\n",
              "    .dataframe tbody tr th {\n",
              "        vertical-align: top;\n",
              "    }\n",
              "\n",
              "    .dataframe thead th {\n",
              "        text-align: right;\n",
              "    }\n",
              "</style>\n",
              "<table border=\"1\" class=\"dataframe\">\n",
              "  <thead>\n",
              "    <tr style=\"text-align: right;\">\n",
              "      <th></th>\n",
              "      <th>14 period RSI</th>\n",
              "      <th>MACD</th>\n",
              "      <th>SIGNAL</th>\n",
              "      <th>14 period STOCH %K</th>\n",
              "      <th>MFV</th>\n",
              "      <th>14 period ATR</th>\n",
              "      <th>MOM</th>\n",
              "      <th>14 period MFI</th>\n",
              "      <th>ROC</th>\n",
              "      <th>OBV</th>\n",
              "      <th>20 period CCI</th>\n",
              "      <th>14 period EMV.</th>\n",
              "      <th>VIm</th>\n",
              "      <th>VIp</th>\n",
              "      <th>pred</th>\n",
              "    </tr>\n",
              "    <tr>\n",
              "      <th>Date</th>\n",
              "      <th></th>\n",
              "      <th></th>\n",
              "      <th></th>\n",
              "      <th></th>\n",
              "      <th></th>\n",
              "      <th></th>\n",
              "      <th></th>\n",
              "      <th></th>\n",
              "      <th></th>\n",
              "      <th></th>\n",
              "      <th></th>\n",
              "      <th></th>\n",
              "      <th></th>\n",
              "      <th></th>\n",
              "      <th></th>\n",
              "    </tr>\n",
              "  </thead>\n",
              "  <tbody>\n",
              "    <tr>\n",
              "      <th>2021-11-01</th>\n",
              "      <td>94.198009</td>\n",
              "      <td>92.277528</td>\n",
              "      <td>61.389009</td>\n",
              "      <td>99.712841</td>\n",
              "      <td>3.714199e+09</td>\n",
              "      <td>44.946424</td>\n",
              "      <td>338.479980</td>\n",
              "      <td>97.181539</td>\n",
              "      <td>47.691607</td>\n",
              "      <td>5.620882e+09</td>\n",
              "      <td>179.172877</td>\n",
              "      <td>35.462633</td>\n",
              "      <td>0.389623</td>\n",
              "      <td>1.380485</td>\n",
              "      <td>0.0</td>\n",
              "    </tr>\n",
              "    <tr>\n",
              "      <th>2021-11-02</th>\n",
              "      <td>85.002278</td>\n",
              "      <td>98.663654</td>\n",
              "      <td>68.843938</td>\n",
              "      <td>90.476792</td>\n",
              "      <td>3.706968e+09</td>\n",
              "      <td>48.724993</td>\n",
              "      <td>307.729980</td>\n",
              "      <td>86.703876</td>\n",
              "      <td>39.022331</td>\n",
              "      <td>5.578144e+09</td>\n",
              "      <td>145.283385</td>\n",
              "      <td>36.532353</td>\n",
              "      <td>0.443275</td>\n",
              "      <td>1.377644</td>\n",
              "      <td>0.0</td>\n",
              "    </tr>\n",
              "    <tr>\n",
              "      <th>2021-11-03</th>\n",
              "      <td>86.612434</td>\n",
              "      <td>105.881914</td>\n",
              "      <td>76.251533</td>\n",
              "      <td>99.610719</td>\n",
              "      <td>3.739909e+09</td>\n",
              "      <td>52.553567</td>\n",
              "      <td>348.059998</td>\n",
              "      <td>87.536496</td>\n",
              "      <td>39.506500</td>\n",
              "      <td>5.612772e+09</td>\n",
              "      <td>131.864432</td>\n",
              "      <td>37.151438</td>\n",
              "      <td>0.484254</td>\n",
              "      <td>1.351927</td>\n",
              "      <td>0.0</td>\n",
              "    </tr>\n",
              "    <tr>\n",
              "      <th>2021-11-04</th>\n",
              "      <td>87.180722</td>\n",
              "      <td>111.610961</td>\n",
              "      <td>83.323419</td>\n",
              "      <td>96.535902</td>\n",
              "      <td>3.739266e+09</td>\n",
              "      <td>52.892138</td>\n",
              "      <td>335.910034</td>\n",
              "      <td>87.911118</td>\n",
              "      <td>42.306224</td>\n",
              "      <td>5.638170e+09</td>\n",
              "      <td>129.999225</td>\n",
              "      <td>39.331090</td>\n",
              "      <td>0.480493</td>\n",
              "      <td>1.425664</td>\n",
              "      <td>0.0</td>\n",
              "    </tr>\n",
              "    <tr>\n",
              "      <th>2021-11-05</th>\n",
              "      <td>85.281224</td>\n",
              "      <td>114.203788</td>\n",
              "      <td>89.499492</td>\n",
              "      <td>94.484387</td>\n",
              "      <td>3.736768e+09</td>\n",
              "      <td>52.866425</td>\n",
              "      <td>312.409973</td>\n",
              "      <td>82.973712</td>\n",
              "      <td>41.151534</td>\n",
              "      <td>5.616590e+09</td>\n",
              "      <td>112.603508</td>\n",
              "      <td>36.518465</td>\n",
              "      <td>0.517517</td>\n",
              "      <td>1.385770</td>\n",
              "      <td>0.0</td>\n",
              "    </tr>\n",
              "  </tbody>\n",
              "</table>\n",
              "</div>"
            ],
            "text/plain": [
              "            14 period RSI        MACD     SIGNAL  ...       VIm       VIp  pred\n",
              "Date                                              ...                          \n",
              "2021-11-01      94.198009   92.277528  61.389009  ...  0.389623  1.380485   0.0\n",
              "2021-11-02      85.002278   98.663654  68.843938  ...  0.443275  1.377644   0.0\n",
              "2021-11-03      86.612434  105.881914  76.251533  ...  0.484254  1.351927   0.0\n",
              "2021-11-04      87.180722  111.610961  83.323419  ...  0.480493  1.425664   0.0\n",
              "2021-11-05      85.281224  114.203788  89.499492  ...  0.517517  1.385770   0.0\n",
              "\n",
              "[5 rows x 15 columns]"
            ]
          },
          "metadata": {},
          "execution_count": 17
        }
      ]
    },
    {
      "cell_type": "code",
      "metadata": {
        "id": "nEMWIpxo2DkT"
      },
      "source": [
        "#implementing SVM\n",
        "X = data.drop('pred', axis=1)\n",
        "y = data['pred']"
      ],
      "execution_count": 18,
      "outputs": []
    },
    {
      "cell_type": "code",
      "metadata": {
        "id": "2d0lOEGn3I3D"
      },
      "source": [
        "X_train, X_test, y_train, y_test = train_test_split(X, y, test_size = 0.20)"
      ],
      "execution_count": 19,
      "outputs": []
    },
    {
      "cell_type": "code",
      "metadata": {
        "id": "QWT5mGQVANV6"
      },
      "source": [
        "#feature Scaling\n",
        "from sklearn import preprocessing\n",
        "import numpy as np\n",
        "scaler = preprocessing.StandardScaler().fit(X_train)\n",
        "scaler = preprocessing.StandardScaler().fit(X_test)\n",
        "X_testScaled = scaler.transform(X_test)\n",
        "X_scaled = scaler.transform(X_train)"
      ],
      "execution_count": 20,
      "outputs": []
    },
    {
      "cell_type": "code",
      "metadata": {
        "id": "DL4j88KI7akZ",
        "colab": {
          "base_uri": "https://localhost:8080/"
        },
        "outputId": "adc03803-9b6f-43c5-f0c5-0bc2f48161f1"
      },
      "source": [
        "svclassifier = SVC(kernel='rbf')\n",
        "svclassifier.fit(X_scaled, y_train)"
      ],
      "execution_count": 10,
      "outputs": [
        {
          "output_type": "execute_result",
          "data": {
            "text/plain": [
              "SVC()"
            ]
          },
          "metadata": {},
          "execution_count": 10
        }
      ]
    },
    {
      "cell_type": "code",
      "metadata": {
        "id": "5tH8fOIXUPsy"
      },
      "source": [
        "y_pred = svclassifier.predict(X_testScaled)"
      ],
      "execution_count": 21,
      "outputs": []
    },
    {
      "cell_type": "code",
      "metadata": {
        "colab": {
          "base_uri": "https://localhost:8080/"
        },
        "id": "VfzO_WFzUSYZ",
        "outputId": "7048329e-c009-4094-9c2b-b90d3ddf6671"
      },
      "source": [
        "from sklearn import metrics\n",
        "print(\"Gaussian Kernel Accuracy:\",metrics.accuracy_score(y_test, y_pred))"
      ],
      "execution_count": 24,
      "outputs": [
        {
          "output_type": "stream",
          "name": "stdout",
          "text": [
            "Gaussian Kernel Accuracy: 0.6232394366197183\n"
          ]
        }
      ]
    },
    {
      "cell_type": "code",
      "metadata": {
        "colab": {
          "base_uri": "https://localhost:8080/"
        },
        "id": "TIW5F2zIhcF9",
        "outputId": "2d778916-2f83-4e04-beb5-5ab1e15a1e05"
      },
      "source": [
        "#getting accuracy for Different plynomial terms\n",
        "i = 2\n",
        "while i < 20:\n",
        "  polyclassifier = SVC(kernel = 'poly', degree = i)\n",
        "  polyclassifier.fit(X_scaled, y_train)\n",
        "  prediction = polyclassifier.predict(X_testScaled)\n",
        "  print('polynomial degree '+str(i) +':',metrics.accuracy_score(y_test, prediction))\n",
        "  i = i+1"
      ],
      "execution_count": 26,
      "outputs": [
        {
          "output_type": "stream",
          "name": "stdout",
          "text": [
            "polynomial degree 2: 0.5880281690140845\n",
            "polynomial degree 3: 0.6003521126760564\n",
            "polynomial degree 4: 0.5950704225352113\n",
            "polynomial degree 5: 0.6003521126760564\n",
            "polynomial degree 6: 0.5933098591549296\n",
            "polynomial degree 7: 0.6038732394366197\n",
            "polynomial degree 8: 0.5897887323943662\n",
            "polynomial degree 9: 0.5950704225352113\n",
            "polynomial degree 10: 0.5950704225352113\n",
            "polynomial degree 11: 0.6003521126760564\n",
            "polynomial degree 12: 0.5933098591549296\n",
            "polynomial degree 13: 0.596830985915493\n",
            "polynomial degree 14: 0.5880281690140845\n",
            "polynomial degree 15: 0.596830985915493\n",
            "polynomial degree 16: 0.5845070422535211\n",
            "polynomial degree 17: 0.5933098591549296\n",
            "polynomial degree 18: 0.5862676056338029\n",
            "polynomial degree 19: 0.5915492957746479\n"
          ]
        }
      ]
    }
  ]
}